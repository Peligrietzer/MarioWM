{
 "cells": [
  {
   "cell_type": "code",
   "execution_count": 1,
   "metadata": {},
   "outputs": [
    {
     "name": "stdout",
     "output_type": "stream",
     "text": [
      "/home/peli/miniconda3/envs/retrogym/lib/python3.7/site-packages/tensorflow/python/framework/dtypes.py:516: FutureWarning: Passing (type, 1) or '1type' as a synonym of type is deprecated; in a future version of numpy, it will be understood as (type, (1,)) / '(1,)type'.\n",
      "  _np_qint8 = np.dtype([(\"qint8\", np.int8, 1)])\n",
      "/home/peli/miniconda3/envs/retrogym/lib/python3.7/site-packages/tensorflow/python/framework/dtypes.py:517: FutureWarning: Passing (type, 1) or '1type' as a synonym of type is deprecated; in a future version of numpy, it will be understood as (type, (1,)) / '(1,)type'.\n",
      "  _np_quint8 = np.dtype([(\"quint8\", np.uint8, 1)])\n",
      "/home/peli/miniconda3/envs/retrogym/lib/python3.7/site-packages/tensorflow/python/framework/dtypes.py:518: FutureWarning: Passing (type, 1) or '1type' as a synonym of type is deprecated; in a future version of numpy, it will be understood as (type, (1,)) / '(1,)type'.\n",
      "  _np_qint16 = np.dtype([(\"qint16\", np.int16, 1)])\n",
      "/home/peli/miniconda3/envs/retrogym/lib/python3.7/site-packages/tensorflow/python/framework/dtypes.py:519: FutureWarning: Passing (type, 1) or '1type' as a synonym of type is deprecated; in a future version of numpy, it will be understood as (type, (1,)) / '(1,)type'.\n",
      "  _np_quint16 = np.dtype([(\"quint16\", np.uint16, 1)])\n",
      "/home/peli/miniconda3/envs/retrogym/lib/python3.7/site-packages/tensorflow/python/framework/dtypes.py:520: FutureWarning: Passing (type, 1) or '1type' as a synonym of type is deprecated; in a future version of numpy, it will be understood as (type, (1,)) / '(1,)type'.\n",
      "  _np_qint32 = np.dtype([(\"qint32\", np.int32, 1)])\n",
      "/home/peli/miniconda3/envs/retrogym/lib/python3.7/site-packages/tensorflow/python/framework/dtypes.py:525: FutureWarning: Passing (type, 1) or '1type' as a synonym of type is deprecated; in a future version of numpy, it will be understood as (type, (1,)) / '(1,)type'.\n",
      "  np_resource = np.dtype([(\"resource\", np.ubyte, 1)])\n",
      "Logging to /tmp/openai-2020-12-30-14-44-44-837441\n",
      "Creating dummy env object to get spaces\n",
      "^C\n",
      "ShmemVecEnv worker: got KeyboardInterrupt\n",
      "ShmemVecEnv worker: got KeyboardInterrupt\n",
      "Traceback (most recent call last):\n",
      "ShmemVecEnv worker: got KeyboardInterrupt\n",
      "ShmemVecEnv worker: got KeyboardInterrupt\n",
      "ShmemVecEnv worker: got KeyboardInterrupt\n",
      "ShmemVecEnv worker: got KeyboardInterrupt\n",
      "ShmemVecEnv worker: got KeyboardInterrupt\n",
      "ShmemVecEnv worker: got KeyboardInterrupt\n",
      "ShmemVecEnv worker: got KeyboardInterrupt\n",
      "ShmemVecEnv worker: got KeyboardInterrupt\n",
      "ShmemVecEnv worker: got KeyboardInterrupt\n",
      "ShmemVecEnv worker: got KeyboardInterrupt\n",
      "ShmemVecEnv worker: got KeyboardInterrupt\n",
      "ShmemVecEnv worker: got KeyboardInterrupt\n",
      "ShmemVecEnv worker: got KeyboardInterrupt\n",
      "ShmemVecEnv worker: got KeyboardInterrupt\n",
      "ShmemVecEnv worker: got KeyboardInterrupt\n",
      "ShmemVecEnv worker: got KeyboardInterrupt\n",
      "ShmemVecEnv worker: got KeyboardInterrupt\n",
      "ShmemVecEnv worker: got KeyboardInterrupt\n",
      "ShmemVecEnv worker: got KeyboardInterrupt\n",
      "ShmemVecEnv worker: got KeyboardInterrupt\n",
      "ShmemVecEnv worker: got KeyboardInterrupt\n",
      "ShmemVecEnv worker: got KeyboardInterrupt\n",
      "ShmemVecEnv worker: got KeyboardInterrupt\n",
      "ShmemVecEnv worker: got KeyboardInterrupt\n",
      "ShmemVecEnv worker: got KeyboardInterrupt\n",
      "ShmemVecEnv worker: got KeyboardInterrupt\n",
      "ShmemVecEnv worker: got KeyboardInterrupt\n",
      "ShmemVecEnv worker: got KeyboardInterrupt\n",
      "ShmemVecEnv worker: got KeyboardInterrupt\n",
      "ShmemVecEnv worker: got KeyboardInterrupt\n",
      "ShmemVecEnv worker: got KeyboardInterrupt\n",
      "ShmemVecEnv worker: got KeyboardInterrupt\n",
      "ShmemVecEnv worker: got KeyboardInterrupt\n",
      "ShmemVecEnv worker: got KeyboardInterrupt\n",
      "ShmemVecEnv worker: got KeyboardInterrupt\n",
      "ShmemVecEnv worker: got KeyboardInterrupt\n",
      "ShmemVecEnv worker: got KeyboardInterrupt\n",
      "ShmemVecEnv worker: got KeyboardInterrupt\n",
      "ShmemVecEnv worker: got KeyboardInterrupt\n",
      "ShmemVecEnv worker: got KeyboardInterrupt\n",
      "ShmemVecEnv worker: got KeyboardInterrupt\n",
      "ShmemVecEnv worker: got KeyboardInterrupt\n",
      "ShmemVecEnv worker: got KeyboardInterrupt\n",
      "ShmemVecEnv worker: got KeyboardInterrupt\n",
      "ShmemVecEnv worker: got KeyboardInterrupt\n",
      "ShmemVecEnv worker: got KeyboardInterrupt\n",
      "ShmemVecEnv worker: got KeyboardInterrupt\n",
      "ShmemVecEnv worker: got KeyboardInterrupt\n",
      "ShmemVecEnv worker: got KeyboardInterrupt\n",
      "ShmemVecEnv worker: got KeyboardInterrupt\n",
      "  File \"main.py\", line 199, in <module>\n",
      "    main()\n",
      "  File \"main.py\", line 121, in main\n",
      "    obs, reward, done, infos = envs.step(action)\n",
      "  File \"/home/peli/baselines/baselines/common/vec_env/vec_env.py\", line 107, in step\n",
      "    self.step_async(actions)\n",
      "  File \"/home/peli/baselines/baselines/common/vec_env/vec_env.py\", line 153, in step_async\n",
      "    self.venv.step_async(actions)\n",
      "  File \"/home/peli/Downloads/MarioWM-main/a2c_ppo_acktr_m/envs.py\", line 251, in step_async\n",
      "    self.venv.step_async(actions)\n",
      "  File \"/home/peli/baselines/baselines/common/vec_env/shmem_vec_env.py\", line 72, in step_async\n",
      "    pipe.send(('step', act))\n",
      "  File \"/home/peli/miniconda3/envs/retrogym/lib/python3.7/multiprocessing/connection.py\", line 206, in send\n",
      "    self._send_bytes(_ForkingPickler.dumps(obj))\n",
      "  File \"/home/peli/miniconda3/envs/retrogym/lib/python3.7/multiprocessing/reduction.py\", line 51, in dumps\n",
      "ShmemVecEnv worker: got KeyboardInterrupt\n",
      "    cls(buf, protocol).dump(obj)\n",
      "KeyboardInterrupt\n"
     ]
    }
   ],
   "source": [
    "!python main.py  --env-name \"Mario-v1\" --algo ppo --use-gae --lr 2.5e-4 --clip-param 0.1 --value-loss-coef 0.5 --num-processes 60 --num-steps 128 --num-mini-batch 20 --log-interval 5  --use-linear-lr-decay --entropy-coef 0.01"
   ]
  },
  {
   "cell_type": "code",
   "execution_count": 3,
   "metadata": {},
   "outputs": [
    {
     "name": "stdout",
     "output_type": "stream",
     "text": [
      "usage: setup.py [global_opts] cmd1 [cmd1_opts] [cmd2 [cmd2_opts] ...]\n",
      "   or: setup.py --help [cmd1 cmd2 ...]\n",
      "   or: setup.py --help-commands\n",
      "   or: setup.py cmd --help\n",
      "\n",
      "error: no commands supplied\n"
     ]
    }
   ],
   "source": [
    "!python setup.py"
   ]
  },
  {
   "cell_type": "code",
   "execution_count": null,
   "metadata": {},
   "outputs": [],
   "source": []
  }
 ],
 "metadata": {
  "kernelspec": {
   "display_name": "Python 3",
   "language": "python",
   "name": "python3"
  },
  "language_info": {
   "codemirror_mode": {
    "name": "ipython",
    "version": 3
   },
   "file_extension": ".py",
   "mimetype": "text/x-python",
   "name": "python",
   "nbconvert_exporter": "python",
   "pygments_lexer": "ipython3",
   "version": "3.7.9"
  }
 },
 "nbformat": 4,
 "nbformat_minor": 4
}
